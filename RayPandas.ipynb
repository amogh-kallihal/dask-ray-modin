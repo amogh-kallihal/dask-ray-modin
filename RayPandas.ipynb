{
 "cells": [
  {
   "cell_type": "code",
   "execution_count": 1,
   "metadata": {},
   "outputs": [
    {
     "name": "stderr",
     "output_type": "stream",
     "text": [
      "2020-02-25 21:31:29,031\tINFO resource_spec.py:216 -- Starting Ray with 4.88 GiB memory available for workers and up to 2.05 GiB for objects. You can adjust these settings with ray.init(memory=<bytes>, object_store_memory=<bytes>).\n"
     ]
    }
   ],
   "source": [
    "import os\n",
    "\n",
    "os.environ[\"MODIN_ENGINE\"] = \"ray\"  # Modin will use Ray\n",
    "import ray\n",
    "ray.init(memory=5242880000)\n",
    "import modin.pandas as pd"
   ]
  },
  {
   "cell_type": "code",
   "execution_count": 2,
   "metadata": {},
   "outputs": [],
   "source": [
    "import modin.pandas as pd"
   ]
  },
  {
   "cell_type": "code",
   "execution_count": 6,
   "metadata": {},
   "outputs": [],
   "source": [
    "import pandas as old_pd"
   ]
  },
  {
   "cell_type": "code",
   "execution_count": 3,
   "metadata": {},
   "outputs": [
    {
     "name": "stdout",
     "output_type": "stream",
     "text": [
      "CPU times: user 705 ms, sys: 358 ms, total: 1.06 s\n",
      "Wall time: 1.96 s\n"
     ]
    }
   ],
   "source": [
    "%time loans_df = pd.read_csv(\"data/kiva_loans.csv\")"
   ]
  },
  {
   "cell_type": "code",
   "execution_count": 4,
   "metadata": {},
   "outputs": [
    {
     "name": "stdout",
     "output_type": "stream",
     "text": [
      "CPU times: user 29.6 ms, sys: 8.9 ms, total: 38.5 ms\n",
      "Wall time: 37.6 ms\n"
     ]
    }
   ],
   "source": [
    "%time  locations_df = pd.read_csv(\"data/kiva_mpi_region_locations.csv\")"
   ]
  },
  {
   "cell_type": "code",
   "execution_count": 7,
   "metadata": {},
   "outputs": [
    {
     "name": "stdout",
     "output_type": "stream",
     "text": [
      "CPU times: user 3.11 s, sys: 227 ms, total: 3.34 s\n",
      "Wall time: 3.32 s\n"
     ]
    }
   ],
   "source": [
    "%time  old_loans_df = old_pd.read_csv(\"data/kiva_loans.csv\")"
   ]
  },
  {
   "cell_type": "code",
   "execution_count": 8,
   "metadata": {},
   "outputs": [
    {
     "name": "stdout",
     "output_type": "stream",
     "text": [
      "CPU times: user 7.68 ms, sys: 5.25 ms, total: 12.9 ms\n",
      "Wall time: 11.2 ms\n"
     ]
    }
   ],
   "source": [
    "%time  old_locations_df = old_pd.read_csv(\"data/kiva_mpi_region_locations.csv\")"
   ]
  },
  {
   "cell_type": "code",
   "execution_count": 3,
   "metadata": {},
   "outputs": [
    {
     "name": "stdout",
     "output_type": "stream",
     "text": [
      "\u001b[2m\u001b[36m(pid=89945)\u001b[0m DtypeWarning: Columns (17,18,20,21,22,23,29,30,31,32,36,38,39) have mixed types. Specify dtype option on import or set low_memory=False.\n",
      "\u001b[2m\u001b[36m(pid=89953)\u001b[0m DtypeWarning: Columns (18,29,38,39) have mixed types. Specify dtype option on import or set low_memory=False.\n",
      "\u001b[2m\u001b[36m(pid=89949)\u001b[0m DtypeWarning: Columns (18,20,29,38,39) have mixed types. Specify dtype option on import or set low_memory=False.\n",
      "\u001b[2m\u001b[36m(pid=89951)\u001b[0m DtypeWarning: Columns (17,18,20,21,22,23,29,30,31,32,36,38,39) have mixed types. Specify dtype option on import or set low_memory=False.\n",
      "\u001b[2m\u001b[36m(pid=89952)\u001b[0m DtypeWarning: Columns (17,18,20,21,22,23,29,30,31,32,36,38,39) have mixed types. Specify dtype option on import or set low_memory=False.\n",
      "\u001b[2m\u001b[36m(pid=89944)\u001b[0m DtypeWarning: Columns (18,29,38,39) have mixed types. Specify dtype option on import or set low_memory=False.\n",
      "\u001b[2m\u001b[36m(pid=89950)\u001b[0m DtypeWarning: Columns (18,20,21,22,23,29,36,38,39) have mixed types. Specify dtype option on import or set low_memory=False.\n",
      "\u001b[2m\u001b[36m(pid=89947)\u001b[0m DtypeWarning: Columns (18,29,38,39) have mixed types. Specify dtype option on import or set low_memory=False.\n",
      "\u001b[2m\u001b[36m(pid=89954)\u001b[0m DtypeWarning: Columns (18,29,38,39) have mixed types. Specify dtype option on import or set low_memory=False.\n",
      "\u001b[2m\u001b[36m(pid=89948)\u001b[0m DtypeWarning: Columns (18,29,38) have mixed types. Specify dtype option on import or set low_memory=False.\n",
      "\u001b[2m\u001b[36m(pid=89946)\u001b[0m DtypeWarning: Columns (18,29,38,39) have mixed types. Specify dtype option on import or set low_memory=False.\n",
      "\u001b[2m\u001b[36m(pid=89955)\u001b[0m DtypeWarning: Columns (17,18,20,21,22,23,29,30,31,32,36,38) have mixed types. Specify dtype option on import or set low_memory=False.\n",
      "CPU times: user 4.04 s, sys: 3.6 s, total: 7.64 s\n",
      "Wall time: 1min 46s\n"
     ]
    }
   ],
   "source": [
    "%time  parking_df = pd.read_csv('data/Parking_Violations_Issued_-_Fiscal_Year_2014__August_2013___June_2014_.csv')  \n",
    "#print(type(tp_df))"
   ]
  },
  {
   "cell_type": "code",
   "execution_count": 13,
   "metadata": {},
   "outputs": [
    {
     "name": "stderr",
     "output_type": "stream",
     "text": [
      "DtypeWarning: Columns (17,18,20,21,22,23,29,30,31,32,36,38,39) have mixed types. Specify dtype option on import or set low_memory=False.\n"
     ]
    },
    {
     "name": "stdout",
     "output_type": "stream",
     "text": [
      "CPU times: user 38.9 s, sys: 9.4 s, total: 48.3 s\n",
      "Wall time: 48.7 s\n"
     ]
    }
   ],
   "source": [
    "%time old_parking_df = old_pd.read_csv('data/Parking_Violations_Issued_-_Fiscal_Year_2014__August_2013___June_2014_.csv') "
   ]
  },
  {
   "cell_type": "code",
   "execution_count": 4,
   "metadata": {},
   "outputs": [],
   "source": [
    "ray.timeline(filename=\"data/timeline.json\")"
   ]
  },
  {
   "cell_type": "code",
   "execution_count": null,
   "metadata": {},
   "outputs": [],
   "source": [
    "*** Append Operations ***"
   ]
  },
  {
   "cell_type": "code",
   "execution_count": 9,
   "metadata": {},
   "outputs": [
    {
     "name": "stdout",
     "output_type": "stream",
     "text": [
      "CPU times: user 4.99 ms, sys: 3.36 ms, total: 8.36 ms\n",
      "Wall time: 6.85 ms\n"
     ]
    }
   ],
   "source": [
    "%time new_df2 = loans_df.append(loans_df)"
   ]
  },
  {
   "cell_type": "code",
   "execution_count": 10,
   "metadata": {},
   "outputs": [
    {
     "name": "stdout",
     "output_type": "stream",
     "text": [
      "CPU times: user 594 ms, sys: 81.3 ms, total: 676 ms\n",
      "Wall time: 673 ms\n"
     ]
    }
   ],
   "source": [
    "%time new_df1 = old_loans_df.append(old_loans_df)"
   ]
  },
  {
   "cell_type": "code",
   "execution_count": null,
   "metadata": {},
   "outputs": [],
   "source": [
    "*** Concat Operations ***"
   ]
  },
  {
   "cell_type": "code",
   "execution_count": 11,
   "metadata": {},
   "outputs": [
    {
     "name": "stdout",
     "output_type": "stream",
     "text": [
      "CPU times: user 5.95 ms, sys: 1.04 ms, total: 7 ms\n",
      "Wall time: 5.39 ms\n"
     ]
    }
   ],
   "source": [
    "%time df = pd.concat([loans_df for _ in range(5)])"
   ]
  },
  {
   "cell_type": "code",
   "execution_count": 12,
   "metadata": {},
   "outputs": [
    {
     "name": "stdout",
     "output_type": "stream",
     "text": [
      "CPU times: user 1.58 s, sys: 264 ms, total: 1.85 s\n",
      "Wall time: 1.84 s\n"
     ]
    }
   ],
   "source": [
    "%time df1 = old_pd.concat([old_loans_df for _ in range(5)])"
   ]
  },
  {
   "cell_type": "code",
   "execution_count": null,
   "metadata": {},
   "outputs": [],
   "source": [
    "*** SUM OPERATIONS ***"
   ]
  },
  {
   "cell_type": "code",
   "execution_count": 13,
   "metadata": {},
   "outputs": [
    {
     "name": "stdout",
     "output_type": "stream",
     "text": [
      "CPU times: user 68.8 ms, sys: 11.7 ms, total: 80.5 ms\n",
      "Wall time: 359 ms\n"
     ]
    },
    {
     "data": {
      "text/plain": [
       "13820730"
      ]
     },
     "execution_count": 13,
     "metadata": {},
     "output_type": "execute_result"
    }
   ],
   "source": [
    "%time loans_df['lender_count'].sum()"
   ]
  },
  {
   "cell_type": "code",
   "execution_count": 14,
   "metadata": {},
   "outputs": [
    {
     "name": "stdout",
     "output_type": "stream",
     "text": [
      "CPU times: user 1 ms, sys: 335 µs, total: 1.34 ms\n",
      "Wall time: 770 µs\n"
     ]
    },
    {
     "data": {
      "text/plain": [
       "13820730"
      ]
     },
     "execution_count": 14,
     "metadata": {},
     "output_type": "execute_result"
    }
   ],
   "source": [
    "%time old_loans_df['lender_count'].sum()"
   ]
  },
  {
   "cell_type": "code",
   "execution_count": null,
   "metadata": {},
   "outputs": [],
   "source": [
    "*** MEAN OPERATIONS ***"
   ]
  },
  {
   "cell_type": "code",
   "execution_count": 15,
   "metadata": {},
   "outputs": [
    {
     "name": "stdout",
     "output_type": "stream",
     "text": [
      "CPU times: user 211 ms, sys: 53.2 ms, total: 264 ms\n",
      "Wall time: 3.32 s\n"
     ]
    },
    {
     "data": {
      "text/html": [
       "<div>\n",
       "<style scoped>\n",
       "    .dataframe tbody tr th:only-of-type {\n",
       "        vertical-align: middle;\n",
       "    }\n",
       "\n",
       "    .dataframe tbody tr th {\n",
       "        vertical-align: top;\n",
       "    }\n",
       "\n",
       "    .dataframe thead th {\n",
       "        text-align: right;\n",
       "    }\n",
       "</style>\n",
       "<table border=\"1\" class=\"dataframe\">\n",
       "  <thead>\n",
       "    <tr style=\"text-align: right;\">\n",
       "      <th></th>\n",
       "      <th>id</th>\n",
       "      <th>funded_amount</th>\n",
       "      <th>loan_amount</th>\n",
       "      <th>partner_id</th>\n",
       "      <th>term_in_months</th>\n",
       "      <th>lender_count</th>\n",
       "    </tr>\n",
       "    <tr>\n",
       "      <th>country</th>\n",
       "      <th></th>\n",
       "      <th></th>\n",
       "      <th></th>\n",
       "      <th></th>\n",
       "      <th></th>\n",
       "      <th></th>\n",
       "    </tr>\n",
       "  </thead>\n",
       "  <tbody>\n",
       "    <tr>\n",
       "      <th>Afghanistan</th>\n",
       "      <td>9.145775e+05</td>\n",
       "      <td>7000.000000</td>\n",
       "      <td>7000.000000</td>\n",
       "      <td>412.000000</td>\n",
       "      <td>7.000000</td>\n",
       "      <td>256.000000</td>\n",
       "    </tr>\n",
       "    <tr>\n",
       "      <th>Albania</th>\n",
       "      <td>9.464003e+05</td>\n",
       "      <td>1287.487073</td>\n",
       "      <td>1378.748707</td>\n",
       "      <td>239.039297</td>\n",
       "      <td>23.869700</td>\n",
       "      <td>42.904343</td>\n",
       "    </tr>\n",
       "    <tr>\n",
       "      <th>Armenia</th>\n",
       "      <td>9.913564e+05</td>\n",
       "      <td>1296.104159</td>\n",
       "      <td>1496.396710</td>\n",
       "      <td>158.777778</td>\n",
       "      <td>28.339358</td>\n",
       "      <td>37.140076</td>\n",
       "    </tr>\n",
       "    <tr>\n",
       "      <th>Azerbaijan</th>\n",
       "      <td>8.449189e+05</td>\n",
       "      <td>1387.956298</td>\n",
       "      <td>1485.192802</td>\n",
       "      <td>59.034447</td>\n",
       "      <td>16.613368</td>\n",
       "      <td>42.724422</td>\n",
       "    </tr>\n",
       "    <tr>\n",
       "      <th>Belize</th>\n",
       "      <td>7.870861e+05</td>\n",
       "      <td>912.200000</td>\n",
       "      <td>912.200000</td>\n",
       "      <td>273.000000</td>\n",
       "      <td>51.016000</td>\n",
       "      <td>33.472000</td>\n",
       "    </tr>\n",
       "    <tr>\n",
       "      <th>...</th>\n",
       "      <td>...</td>\n",
       "      <td>...</td>\n",
       "      <td>...</td>\n",
       "      <td>...</td>\n",
       "      <td>...</td>\n",
       "      <td>...</td>\n",
       "    </tr>\n",
       "    <tr>\n",
       "      <th>Vietnam</th>\n",
       "      <td>9.926573e+05</td>\n",
       "      <td>1259.955732</td>\n",
       "      <td>1373.369916</td>\n",
       "      <td>204.428479</td>\n",
       "      <td>17.623905</td>\n",
       "      <td>37.272987</td>\n",
       "    </tr>\n",
       "    <tr>\n",
       "      <th>Virgin Islands</th>\n",
       "      <td>1.081654e+06</td>\n",
       "      <td>0.000000</td>\n",
       "      <td>5000.000000</td>\n",
       "      <td>NaN</td>\n",
       "      <td>24.000000</td>\n",
       "      <td>0.000000</td>\n",
       "    </tr>\n",
       "    <tr>\n",
       "      <th>Yemen</th>\n",
       "      <td>8.271608e+05</td>\n",
       "      <td>771.325119</td>\n",
       "      <td>812.775616</td>\n",
       "      <td>205.000000</td>\n",
       "      <td>17.668396</td>\n",
       "      <td>20.888889</td>\n",
       "    </tr>\n",
       "    <tr>\n",
       "      <th>Zambia</th>\n",
       "      <td>9.967362e+05</td>\n",
       "      <td>1464.221939</td>\n",
       "      <td>1544.228316</td>\n",
       "      <td>255.445153</td>\n",
       "      <td>17.780612</td>\n",
       "      <td>47.114796</td>\n",
       "    </tr>\n",
       "    <tr>\n",
       "      <th>Zimbabwe</th>\n",
       "      <td>9.130567e+05</td>\n",
       "      <td>836.074616</td>\n",
       "      <td>854.586019</td>\n",
       "      <td>317.636837</td>\n",
       "      <td>9.479177</td>\n",
       "      <td>24.975706</td>\n",
       "    </tr>\n",
       "  </tbody>\n",
       "</table>\n",
       "<p>87 rows x 6 columns</p>\n",
       "</div>"
      ],
      "text/plain": [
       "                          id  funded_amount  loan_amount  partner_id  \\\n",
       "country                                                                \n",
       "Afghanistan     9.145775e+05    7000.000000  7000.000000  412.000000   \n",
       "Albania         9.464003e+05    1287.487073  1378.748707  239.039297   \n",
       "Armenia         9.913564e+05    1296.104159  1496.396710  158.777778   \n",
       "Azerbaijan      8.449189e+05    1387.956298  1485.192802   59.034447   \n",
       "Belize          7.870861e+05     912.200000   912.200000  273.000000   \n",
       "...                      ...            ...          ...         ...   \n",
       "Vietnam         9.926573e+05    1259.955732  1373.369916  204.428479   \n",
       "Virgin Islands  1.081654e+06       0.000000  5000.000000         NaN   \n",
       "Yemen           8.271608e+05     771.325119   812.775616  205.000000   \n",
       "Zambia          9.967362e+05    1464.221939  1544.228316  255.445153   \n",
       "Zimbabwe        9.130567e+05     836.074616   854.586019  317.636837   \n",
       "\n",
       "                term_in_months  lender_count  \n",
       "country                                       \n",
       "Afghanistan           7.000000    256.000000  \n",
       "Albania              23.869700     42.904343  \n",
       "Armenia              28.339358     37.140076  \n",
       "Azerbaijan           16.613368     42.724422  \n",
       "Belize               51.016000     33.472000  \n",
       "...                        ...           ...  \n",
       "Vietnam              17.623905     37.272987  \n",
       "Virgin Islands       24.000000      0.000000  \n",
       "Yemen                17.668396     20.888889  \n",
       "Zambia               17.780612     47.114796  \n",
       "Zimbabwe              9.479177     24.975706  \n",
       "\n",
       "[87 rows x 6 columns]"
      ]
     },
     "execution_count": 15,
     "metadata": {},
     "output_type": "execute_result"
    }
   ],
   "source": [
    "%time loans_df.groupby('country').mean()"
   ]
  },
  {
   "cell_type": "code",
   "execution_count": 16,
   "metadata": {},
   "outputs": [
    {
     "name": "stdout",
     "output_type": "stream",
     "text": [
      "CPU times: user 132 ms, sys: 32.2 ms, total: 164 ms\n",
      "Wall time: 161 ms\n"
     ]
    },
    {
     "data": {
      "text/html": [
       "<div>\n",
       "<style scoped>\n",
       "    .dataframe tbody tr th:only-of-type {\n",
       "        vertical-align: middle;\n",
       "    }\n",
       "\n",
       "    .dataframe tbody tr th {\n",
       "        vertical-align: top;\n",
       "    }\n",
       "\n",
       "    .dataframe thead th {\n",
       "        text-align: right;\n",
       "    }\n",
       "</style>\n",
       "<table border=\"1\" class=\"dataframe\">\n",
       "  <thead>\n",
       "    <tr style=\"text-align: right;\">\n",
       "      <th></th>\n",
       "      <th>id</th>\n",
       "      <th>funded_amount</th>\n",
       "      <th>loan_amount</th>\n",
       "      <th>partner_id</th>\n",
       "      <th>term_in_months</th>\n",
       "      <th>lender_count</th>\n",
       "    </tr>\n",
       "    <tr>\n",
       "      <th>country</th>\n",
       "      <th></th>\n",
       "      <th></th>\n",
       "      <th></th>\n",
       "      <th></th>\n",
       "      <th></th>\n",
       "      <th></th>\n",
       "    </tr>\n",
       "  </thead>\n",
       "  <tbody>\n",
       "    <tr>\n",
       "      <th>Afghanistan</th>\n",
       "      <td>9.145775e+05</td>\n",
       "      <td>7000.000000</td>\n",
       "      <td>7000.000000</td>\n",
       "      <td>412.000000</td>\n",
       "      <td>7.000000</td>\n",
       "      <td>256.000000</td>\n",
       "    </tr>\n",
       "    <tr>\n",
       "      <th>Albania</th>\n",
       "      <td>9.464003e+05</td>\n",
       "      <td>1287.487073</td>\n",
       "      <td>1378.748707</td>\n",
       "      <td>239.039297</td>\n",
       "      <td>23.869700</td>\n",
       "      <td>42.904343</td>\n",
       "    </tr>\n",
       "    <tr>\n",
       "      <th>Armenia</th>\n",
       "      <td>9.913564e+05</td>\n",
       "      <td>1296.104159</td>\n",
       "      <td>1496.396710</td>\n",
       "      <td>158.777778</td>\n",
       "      <td>28.339358</td>\n",
       "      <td>37.140076</td>\n",
       "    </tr>\n",
       "    <tr>\n",
       "      <th>Azerbaijan</th>\n",
       "      <td>8.449189e+05</td>\n",
       "      <td>1387.956298</td>\n",
       "      <td>1485.192802</td>\n",
       "      <td>59.034447</td>\n",
       "      <td>16.613368</td>\n",
       "      <td>42.724422</td>\n",
       "    </tr>\n",
       "    <tr>\n",
       "      <th>Belize</th>\n",
       "      <td>7.870861e+05</td>\n",
       "      <td>912.200000</td>\n",
       "      <td>912.200000</td>\n",
       "      <td>273.000000</td>\n",
       "      <td>51.016000</td>\n",
       "      <td>33.472000</td>\n",
       "    </tr>\n",
       "    <tr>\n",
       "      <th>...</th>\n",
       "      <td>...</td>\n",
       "      <td>...</td>\n",
       "      <td>...</td>\n",
       "      <td>...</td>\n",
       "      <td>...</td>\n",
       "      <td>...</td>\n",
       "    </tr>\n",
       "    <tr>\n",
       "      <th>Vietnam</th>\n",
       "      <td>9.926573e+05</td>\n",
       "      <td>1259.955732</td>\n",
       "      <td>1373.369916</td>\n",
       "      <td>204.428479</td>\n",
       "      <td>17.623905</td>\n",
       "      <td>37.272987</td>\n",
       "    </tr>\n",
       "    <tr>\n",
       "      <th>Virgin Islands</th>\n",
       "      <td>1.081654e+06</td>\n",
       "      <td>0.000000</td>\n",
       "      <td>5000.000000</td>\n",
       "      <td>NaN</td>\n",
       "      <td>24.000000</td>\n",
       "      <td>0.000000</td>\n",
       "    </tr>\n",
       "    <tr>\n",
       "      <th>Yemen</th>\n",
       "      <td>8.271608e+05</td>\n",
       "      <td>771.325119</td>\n",
       "      <td>812.775616</td>\n",
       "      <td>205.000000</td>\n",
       "      <td>17.668396</td>\n",
       "      <td>20.888889</td>\n",
       "    </tr>\n",
       "    <tr>\n",
       "      <th>Zambia</th>\n",
       "      <td>9.967362e+05</td>\n",
       "      <td>1464.221939</td>\n",
       "      <td>1544.228316</td>\n",
       "      <td>255.445153</td>\n",
       "      <td>17.780612</td>\n",
       "      <td>47.114796</td>\n",
       "    </tr>\n",
       "    <tr>\n",
       "      <th>Zimbabwe</th>\n",
       "      <td>9.130567e+05</td>\n",
       "      <td>836.074616</td>\n",
       "      <td>854.586019</td>\n",
       "      <td>317.636837</td>\n",
       "      <td>9.479177</td>\n",
       "      <td>24.975706</td>\n",
       "    </tr>\n",
       "  </tbody>\n",
       "</table>\n",
       "<p>87 rows × 6 columns</p>\n",
       "</div>"
      ],
      "text/plain": [
       "                          id  funded_amount  loan_amount  partner_id  \\\n",
       "country                                                                \n",
       "Afghanistan     9.145775e+05    7000.000000  7000.000000  412.000000   \n",
       "Albania         9.464003e+05    1287.487073  1378.748707  239.039297   \n",
       "Armenia         9.913564e+05    1296.104159  1496.396710  158.777778   \n",
       "Azerbaijan      8.449189e+05    1387.956298  1485.192802   59.034447   \n",
       "Belize          7.870861e+05     912.200000   912.200000  273.000000   \n",
       "...                      ...            ...          ...         ...   \n",
       "Vietnam         9.926573e+05    1259.955732  1373.369916  204.428479   \n",
       "Virgin Islands  1.081654e+06       0.000000  5000.000000         NaN   \n",
       "Yemen           8.271608e+05     771.325119   812.775616  205.000000   \n",
       "Zambia          9.967362e+05    1464.221939  1544.228316  255.445153   \n",
       "Zimbabwe        9.130567e+05     836.074616   854.586019  317.636837   \n",
       "\n",
       "                term_in_months  lender_count  \n",
       "country                                       \n",
       "Afghanistan           7.000000    256.000000  \n",
       "Albania              23.869700     42.904343  \n",
       "Armenia              28.339358     37.140076  \n",
       "Azerbaijan           16.613368     42.724422  \n",
       "Belize               51.016000     33.472000  \n",
       "...                        ...           ...  \n",
       "Vietnam              17.623905     37.272987  \n",
       "Virgin Islands       24.000000      0.000000  \n",
       "Yemen                17.668396     20.888889  \n",
       "Zambia               17.780612     47.114796  \n",
       "Zimbabwe              9.479177     24.975706  \n",
       "\n",
       "[87 rows x 6 columns]"
      ]
     },
     "execution_count": 16,
     "metadata": {},
     "output_type": "execute_result"
    }
   ],
   "source": [
    "%time old_loans_df.groupby('country').mean()"
   ]
  },
  {
   "cell_type": "code",
   "execution_count": null,
   "metadata": {},
   "outputs": [],
   "source": [
    "*** CSV OPERATIONS ***"
   ]
  },
  {
   "cell_type": "code",
   "execution_count": 17,
   "metadata": {},
   "outputs": [
    {
     "name": "stderr",
     "output_type": "stream",
     "text": [
      "UserWarning: `DataFrame.to_csv` defaulting to pandas implementation.\n",
      "To request implementation, send an email to feature_requests@modin.org.\n",
      "UserWarning: Distributing <class 'pandas.core.frame.DataFrame'> object. This may take some time.\n"
     ]
    },
    {
     "name": "stdout",
     "output_type": "stream",
     "text": [
      "CPU times: user 10.8 s, sys: 834 ms, total: 11.7 s\n",
      "Wall time: 13.2 s\n"
     ]
    }
   ],
   "source": [
    "%time loans_df.to_csv('out.csv', sep='\\t')"
   ]
  },
  {
   "cell_type": "code",
   "execution_count": 18,
   "metadata": {},
   "outputs": [
    {
     "name": "stdout",
     "output_type": "stream",
     "text": [
      "CPU times: user 7.56 s, sys: 297 ms, total: 7.86 s\n",
      "Wall time: 7.73 s\n"
     ]
    }
   ],
   "source": [
    "%time old_loans_df.to_csv('out.csv',sep='\\t')"
   ]
  },
  {
   "cell_type": "markdown",
   "metadata": {},
   "source": [
    "***MERGE OPERATION ****"
   ]
  },
  {
   "cell_type": "code",
   "execution_count": 19,
   "metadata": {},
   "outputs": [
    {
     "name": "stderr",
     "output_type": "stream",
     "text": [
      "UserWarning: `DataFrame.merge` defaulting to pandas implementation.\n"
     ]
    },
    {
     "name": "stdout",
     "output_type": "stream",
     "text": [
      "CPU times: user 20.8 s, sys: 4 s, total: 24.8 s\n",
      "Wall time: 25.1 s\n"
     ]
    }
   ],
   "source": [
    "%time merged_df = pd.merge(loans_df, locations_df, on=\"country\")"
   ]
  },
  {
   "cell_type": "code",
   "execution_count": 27,
   "metadata": {},
   "outputs": [
    {
     "name": "stdout",
     "output_type": "stream",
     "text": [
      "CPU times: user 5.28 s, sys: 1.63 s, total: 6.91 s\n",
      "Wall time: 6.88 s\n"
     ]
    }
   ],
   "source": [
    "%time old_merged_df = old_pd.merge(old_loans_df, old_locations_df, on=\"country\")"
   ]
  },
  {
   "cell_type": "markdown",
   "metadata": {},
   "source": [
    "***IS NULL OPERATION ***"
   ]
  },
  {
   "cell_type": "code",
   "execution_count": 20,
   "metadata": {},
   "outputs": [
    {
     "name": "stdout",
     "output_type": "stream",
     "text": [
      "CPU times: user 41 ms, sys: 11.1 ms, total: 52.1 ms\n",
      "Wall time: 50.7 ms\n"
     ]
    },
    {
     "data": {
      "text/plain": [
       "0         False\n",
       "1         False\n",
       "2         False\n",
       "3         False\n",
       "4         False\n",
       "          ...  \n",
       "671200    False\n",
       "671201    False\n",
       "671202     True\n",
       "671203    False\n",
       "671204    False\n",
       "Name: use, Length: 671205, dtype: bool"
      ]
     },
     "execution_count": 20,
     "metadata": {},
     "output_type": "execute_result"
    }
   ],
   "source": [
    "%time pd.isnull(loans_df[\"use\"]) "
   ]
  },
  {
   "cell_type": "code",
   "execution_count": 21,
   "metadata": {},
   "outputs": [
    {
     "name": "stdout",
     "output_type": "stream",
     "text": [
      "CPU times: user 29.8 ms, sys: 2.17 ms, total: 32 ms\n",
      "Wall time: 31.4 ms\n"
     ]
    },
    {
     "data": {
      "text/plain": [
       "0         False\n",
       "1         False\n",
       "2         False\n",
       "3         False\n",
       "4         False\n",
       "          ...  \n",
       "671200    False\n",
       "671201    False\n",
       "671202     True\n",
       "671203    False\n",
       "671204    False\n",
       "Name: use, Length: 671205, dtype: bool"
      ]
     },
     "execution_count": 21,
     "metadata": {},
     "output_type": "execute_result"
    }
   ],
   "source": [
    "%time old_pd.isnull(old_loans_df[\"use\"])"
   ]
  },
  {
   "cell_type": "markdown",
   "metadata": {},
   "source": [
    "***Fillna Operation***"
   ]
  },
  {
   "cell_type": "code",
   "execution_count": null,
   "metadata": {},
   "outputs": [
    {
     "name": "stdout",
     "output_type": "stream",
     "text": [
      "CPU times: user 113 ms, sys: 14 ms, total: 127 ms\n",
      "Wall time: 163 ms\n"
     ]
    }
   ],
   "source": [
    "%time df.fillna(value=0)"
   ]
  },
  {
   "cell_type": "code",
   "execution_count": 34,
   "metadata": {},
   "outputs": [
    {
     "name": "stdout",
     "output_type": "stream",
     "text": [
      "CPU times: user 924 ms, sys: 328 ms, total: 1.25 s\n",
      "Wall time: 1.37 s\n"
     ]
    },
    {
     "data": {
      "text/html": [
       "<div>\n",
       "<style scoped>\n",
       "    .dataframe tbody tr th:only-of-type {\n",
       "        vertical-align: middle;\n",
       "    }\n",
       "\n",
       "    .dataframe tbody tr th {\n",
       "        vertical-align: top;\n",
       "    }\n",
       "\n",
       "    .dataframe thead th {\n",
       "        text-align: right;\n",
       "    }\n",
       "</style>\n",
       "<table border=\"1\" class=\"dataframe\">\n",
       "  <thead>\n",
       "    <tr style=\"text-align: right;\">\n",
       "      <th></th>\n",
       "      <th>id</th>\n",
       "      <th>funded_amount</th>\n",
       "      <th>loan_amount</th>\n",
       "      <th>activity</th>\n",
       "      <th>sector</th>\n",
       "      <th>use</th>\n",
       "      <th>country_code</th>\n",
       "      <th>country</th>\n",
       "      <th>region</th>\n",
       "      <th>currency</th>\n",
       "      <th>partner_id</th>\n",
       "      <th>posted_time</th>\n",
       "      <th>disbursed_time</th>\n",
       "      <th>funded_time</th>\n",
       "      <th>term_in_months</th>\n",
       "      <th>lender_count</th>\n",
       "      <th>tags</th>\n",
       "      <th>borrower_genders</th>\n",
       "      <th>repayment_interval</th>\n",
       "      <th>date</th>\n",
       "    </tr>\n",
       "  </thead>\n",
       "  <tbody>\n",
       "    <tr>\n",
       "      <th>0</th>\n",
       "      <td>653051</td>\n",
       "      <td>300.0</td>\n",
       "      <td>300.0</td>\n",
       "      <td>Fruits &amp; Vegetables</td>\n",
       "      <td>Food</td>\n",
       "      <td>To buy seasonal, fresh fruits to sell.</td>\n",
       "      <td>PK</td>\n",
       "      <td>Pakistan</td>\n",
       "      <td>Lahore</td>\n",
       "      <td>PKR</td>\n",
       "      <td>247.0</td>\n",
       "      <td>2014-01-01 06:12:39+00:00</td>\n",
       "      <td>2013-12-17 08:00:00+00:00</td>\n",
       "      <td>2014-01-02 10:06:32+00:00</td>\n",
       "      <td>12.0</td>\n",
       "      <td>12</td>\n",
       "      <td>0</td>\n",
       "      <td>female</td>\n",
       "      <td>irregular</td>\n",
       "      <td>2014-01-01</td>\n",
       "    </tr>\n",
       "    <tr>\n",
       "      <th>1</th>\n",
       "      <td>653053</td>\n",
       "      <td>575.0</td>\n",
       "      <td>575.0</td>\n",
       "      <td>Rickshaw</td>\n",
       "      <td>Transportation</td>\n",
       "      <td>to repair and maintain the auto rickshaw used ...</td>\n",
       "      <td>PK</td>\n",
       "      <td>Pakistan</td>\n",
       "      <td>Lahore</td>\n",
       "      <td>PKR</td>\n",
       "      <td>247.0</td>\n",
       "      <td>2014-01-01 06:51:08+00:00</td>\n",
       "      <td>2013-12-17 08:00:00+00:00</td>\n",
       "      <td>2014-01-02 09:17:23+00:00</td>\n",
       "      <td>11.0</td>\n",
       "      <td>14</td>\n",
       "      <td>0</td>\n",
       "      <td>female, female</td>\n",
       "      <td>irregular</td>\n",
       "      <td>2014-01-01</td>\n",
       "    </tr>\n",
       "    <tr>\n",
       "      <th>2</th>\n",
       "      <td>653068</td>\n",
       "      <td>150.0</td>\n",
       "      <td>150.0</td>\n",
       "      <td>Transportation</td>\n",
       "      <td>Transportation</td>\n",
       "      <td>To repair their old cycle-van and buy another ...</td>\n",
       "      <td>IN</td>\n",
       "      <td>India</td>\n",
       "      <td>Maynaguri</td>\n",
       "      <td>INR</td>\n",
       "      <td>334.0</td>\n",
       "      <td>2014-01-01 09:58:07+00:00</td>\n",
       "      <td>2013-12-17 08:00:00+00:00</td>\n",
       "      <td>2014-01-01 16:01:36+00:00</td>\n",
       "      <td>43.0</td>\n",
       "      <td>6</td>\n",
       "      <td>user_favorite, user_favorite</td>\n",
       "      <td>female</td>\n",
       "      <td>bullet</td>\n",
       "      <td>2014-01-01</td>\n",
       "    </tr>\n",
       "    <tr>\n",
       "      <th>3</th>\n",
       "      <td>653063</td>\n",
       "      <td>200.0</td>\n",
       "      <td>200.0</td>\n",
       "      <td>Embroidery</td>\n",
       "      <td>Arts</td>\n",
       "      <td>to purchase an embroidery machine and a variet...</td>\n",
       "      <td>PK</td>\n",
       "      <td>Pakistan</td>\n",
       "      <td>Lahore</td>\n",
       "      <td>PKR</td>\n",
       "      <td>247.0</td>\n",
       "      <td>2014-01-01 08:03:11+00:00</td>\n",
       "      <td>2013-12-24 08:00:00+00:00</td>\n",
       "      <td>2014-01-01 13:00:00+00:00</td>\n",
       "      <td>11.0</td>\n",
       "      <td>8</td>\n",
       "      <td>0</td>\n",
       "      <td>female</td>\n",
       "      <td>irregular</td>\n",
       "      <td>2014-01-01</td>\n",
       "    </tr>\n",
       "    <tr>\n",
       "      <th>4</th>\n",
       "      <td>653084</td>\n",
       "      <td>400.0</td>\n",
       "      <td>400.0</td>\n",
       "      <td>Milk Sales</td>\n",
       "      <td>Food</td>\n",
       "      <td>to purchase one buffalo.</td>\n",
       "      <td>PK</td>\n",
       "      <td>Pakistan</td>\n",
       "      <td>Abdul Hakeem</td>\n",
       "      <td>PKR</td>\n",
       "      <td>245.0</td>\n",
       "      <td>2014-01-01 11:53:19+00:00</td>\n",
       "      <td>2013-12-17 08:00:00+00:00</td>\n",
       "      <td>2014-01-01 19:18:51+00:00</td>\n",
       "      <td>14.0</td>\n",
       "      <td>16</td>\n",
       "      <td>0</td>\n",
       "      <td>female</td>\n",
       "      <td>monthly</td>\n",
       "      <td>2014-01-01</td>\n",
       "    </tr>\n",
       "    <tr>\n",
       "      <th>...</th>\n",
       "      <td>...</td>\n",
       "      <td>...</td>\n",
       "      <td>...</td>\n",
       "      <td>...</td>\n",
       "      <td>...</td>\n",
       "      <td>...</td>\n",
       "      <td>...</td>\n",
       "      <td>...</td>\n",
       "      <td>...</td>\n",
       "      <td>...</td>\n",
       "      <td>...</td>\n",
       "      <td>...</td>\n",
       "      <td>...</td>\n",
       "      <td>...</td>\n",
       "      <td>...</td>\n",
       "      <td>...</td>\n",
       "      <td>...</td>\n",
       "      <td>...</td>\n",
       "      <td>...</td>\n",
       "      <td>...</td>\n",
       "    </tr>\n",
       "    <tr>\n",
       "      <th>671200</th>\n",
       "      <td>1340323</td>\n",
       "      <td>0.0</td>\n",
       "      <td>25.0</td>\n",
       "      <td>Livestock</td>\n",
       "      <td>Agriculture</td>\n",
       "      <td>[True, u'para compara: cemento, arenya y ladri...</td>\n",
       "      <td>PY</td>\n",
       "      <td>Paraguay</td>\n",
       "      <td>Concepción</td>\n",
       "      <td>USD</td>\n",
       "      <td>58.0</td>\n",
       "      <td>2017-07-25 16:55:34+00:00</td>\n",
       "      <td>2017-07-25 07:00:00+00:00</td>\n",
       "      <td>0</td>\n",
       "      <td>13.0</td>\n",
       "      <td>0</td>\n",
       "      <td>0</td>\n",
       "      <td>female</td>\n",
       "      <td>monthly</td>\n",
       "      <td>2017-07-25</td>\n",
       "    </tr>\n",
       "    <tr>\n",
       "      <th>671201</th>\n",
       "      <td>1340316</td>\n",
       "      <td>25.0</td>\n",
       "      <td>25.0</td>\n",
       "      <td>Livestock</td>\n",
       "      <td>Agriculture</td>\n",
       "      <td>[True, u'to start a turducken farm.'] - this l...</td>\n",
       "      <td>KE</td>\n",
       "      <td>Kenya</td>\n",
       "      <td>0</td>\n",
       "      <td>KES</td>\n",
       "      <td>138.0</td>\n",
       "      <td>2017-07-25 06:14:08+00:00</td>\n",
       "      <td>2017-07-24 07:00:00+00:00</td>\n",
       "      <td>2017-07-26 02:09:43+00:00</td>\n",
       "      <td>13.0</td>\n",
       "      <td>1</td>\n",
       "      <td>0</td>\n",
       "      <td>female</td>\n",
       "      <td>monthly</td>\n",
       "      <td>2017-07-25</td>\n",
       "    </tr>\n",
       "    <tr>\n",
       "      <th>671202</th>\n",
       "      <td>1340334</td>\n",
       "      <td>0.0</td>\n",
       "      <td>25.0</td>\n",
       "      <td>Games</td>\n",
       "      <td>Entertainment</td>\n",
       "      <td>0</td>\n",
       "      <td>KE</td>\n",
       "      <td>Kenya</td>\n",
       "      <td>0</td>\n",
       "      <td>KES</td>\n",
       "      <td>138.0</td>\n",
       "      <td>2017-07-26 00:02:07+00:00</td>\n",
       "      <td>2017-07-25 07:00:00+00:00</td>\n",
       "      <td>0</td>\n",
       "      <td>13.0</td>\n",
       "      <td>0</td>\n",
       "      <td>0</td>\n",
       "      <td>0</td>\n",
       "      <td>monthly</td>\n",
       "      <td>2017-07-26</td>\n",
       "    </tr>\n",
       "    <tr>\n",
       "      <th>671203</th>\n",
       "      <td>1340338</td>\n",
       "      <td>0.0</td>\n",
       "      <td>25.0</td>\n",
       "      <td>Livestock</td>\n",
       "      <td>Agriculture</td>\n",
       "      <td>[True, u'to start a turducken farm.'] - this l...</td>\n",
       "      <td>KE</td>\n",
       "      <td>Kenya</td>\n",
       "      <td>0</td>\n",
       "      <td>KES</td>\n",
       "      <td>138.0</td>\n",
       "      <td>2017-07-26 06:12:55+00:00</td>\n",
       "      <td>2017-07-25 07:00:00+00:00</td>\n",
       "      <td>0</td>\n",
       "      <td>13.0</td>\n",
       "      <td>0</td>\n",
       "      <td>0</td>\n",
       "      <td>female</td>\n",
       "      <td>monthly</td>\n",
       "      <td>2017-07-26</td>\n",
       "    </tr>\n",
       "    <tr>\n",
       "      <th>671204</th>\n",
       "      <td>1340339</td>\n",
       "      <td>0.0</td>\n",
       "      <td>25.0</td>\n",
       "      <td>Livestock</td>\n",
       "      <td>Agriculture</td>\n",
       "      <td>[True, u'to start a turducken farm.'] - this l...</td>\n",
       "      <td>KE</td>\n",
       "      <td>Kenya</td>\n",
       "      <td>0</td>\n",
       "      <td>KES</td>\n",
       "      <td>138.0</td>\n",
       "      <td>2017-07-26 06:31:46+00:00</td>\n",
       "      <td>2017-07-25 07:00:00+00:00</td>\n",
       "      <td>0</td>\n",
       "      <td>13.0</td>\n",
       "      <td>0</td>\n",
       "      <td>0</td>\n",
       "      <td>female</td>\n",
       "      <td>monthly</td>\n",
       "      <td>2017-07-26</td>\n",
       "    </tr>\n",
       "  </tbody>\n",
       "</table>\n",
       "<p>671205 rows × 20 columns</p>\n",
       "</div>"
      ],
      "text/plain": [
       "             id  funded_amount  loan_amount             activity  \\\n",
       "0        653051          300.0        300.0  Fruits & Vegetables   \n",
       "1        653053          575.0        575.0             Rickshaw   \n",
       "2        653068          150.0        150.0       Transportation   \n",
       "3        653063          200.0        200.0           Embroidery   \n",
       "4        653084          400.0        400.0           Milk Sales   \n",
       "...         ...            ...          ...                  ...   \n",
       "671200  1340323            0.0         25.0            Livestock   \n",
       "671201  1340316           25.0         25.0            Livestock   \n",
       "671202  1340334            0.0         25.0                Games   \n",
       "671203  1340338            0.0         25.0            Livestock   \n",
       "671204  1340339            0.0         25.0            Livestock   \n",
       "\n",
       "                sector                                                use  \\\n",
       "0                 Food            To buy seasonal, fresh fruits to sell.    \n",
       "1       Transportation  to repair and maintain the auto rickshaw used ...   \n",
       "2       Transportation  To repair their old cycle-van and buy another ...   \n",
       "3                 Arts  to purchase an embroidery machine and a variet...   \n",
       "4                 Food                           to purchase one buffalo.   \n",
       "...                ...                                                ...   \n",
       "671200     Agriculture  [True, u'para compara: cemento, arenya y ladri...   \n",
       "671201     Agriculture  [True, u'to start a turducken farm.'] - this l...   \n",
       "671202   Entertainment                                                  0   \n",
       "671203     Agriculture  [True, u'to start a turducken farm.'] - this l...   \n",
       "671204     Agriculture  [True, u'to start a turducken farm.'] - this l...   \n",
       "\n",
       "       country_code   country        region currency  partner_id  \\\n",
       "0                PK  Pakistan        Lahore      PKR       247.0   \n",
       "1                PK  Pakistan        Lahore      PKR       247.0   \n",
       "2                IN     India     Maynaguri      INR       334.0   \n",
       "3                PK  Pakistan        Lahore      PKR       247.0   \n",
       "4                PK  Pakistan  Abdul Hakeem      PKR       245.0   \n",
       "...             ...       ...           ...      ...         ...   \n",
       "671200           PY  Paraguay    Concepción      USD        58.0   \n",
       "671201           KE     Kenya             0      KES       138.0   \n",
       "671202           KE     Kenya             0      KES       138.0   \n",
       "671203           KE     Kenya             0      KES       138.0   \n",
       "671204           KE     Kenya             0      KES       138.0   \n",
       "\n",
       "                      posted_time             disbursed_time  \\\n",
       "0       2014-01-01 06:12:39+00:00  2013-12-17 08:00:00+00:00   \n",
       "1       2014-01-01 06:51:08+00:00  2013-12-17 08:00:00+00:00   \n",
       "2       2014-01-01 09:58:07+00:00  2013-12-17 08:00:00+00:00   \n",
       "3       2014-01-01 08:03:11+00:00  2013-12-24 08:00:00+00:00   \n",
       "4       2014-01-01 11:53:19+00:00  2013-12-17 08:00:00+00:00   \n",
       "...                           ...                        ...   \n",
       "671200  2017-07-25 16:55:34+00:00  2017-07-25 07:00:00+00:00   \n",
       "671201  2017-07-25 06:14:08+00:00  2017-07-24 07:00:00+00:00   \n",
       "671202  2017-07-26 00:02:07+00:00  2017-07-25 07:00:00+00:00   \n",
       "671203  2017-07-26 06:12:55+00:00  2017-07-25 07:00:00+00:00   \n",
       "671204  2017-07-26 06:31:46+00:00  2017-07-25 07:00:00+00:00   \n",
       "\n",
       "                      funded_time  term_in_months  lender_count  \\\n",
       "0       2014-01-02 10:06:32+00:00            12.0            12   \n",
       "1       2014-01-02 09:17:23+00:00            11.0            14   \n",
       "2       2014-01-01 16:01:36+00:00            43.0             6   \n",
       "3       2014-01-01 13:00:00+00:00            11.0             8   \n",
       "4       2014-01-01 19:18:51+00:00            14.0            16   \n",
       "...                           ...             ...           ...   \n",
       "671200                          0            13.0             0   \n",
       "671201  2017-07-26 02:09:43+00:00            13.0             1   \n",
       "671202                          0            13.0             0   \n",
       "671203                          0            13.0             0   \n",
       "671204                          0            13.0             0   \n",
       "\n",
       "                                tags borrower_genders repayment_interval  \\\n",
       "0                                  0           female          irregular   \n",
       "1                                  0   female, female          irregular   \n",
       "2       user_favorite, user_favorite           female             bullet   \n",
       "3                                  0           female          irregular   \n",
       "4                                  0           female            monthly   \n",
       "...                              ...              ...                ...   \n",
       "671200                             0           female            monthly   \n",
       "671201                             0           female            monthly   \n",
       "671202                             0                0            monthly   \n",
       "671203                             0           female            monthly   \n",
       "671204                             0           female            monthly   \n",
       "\n",
       "              date  \n",
       "0       2014-01-01  \n",
       "1       2014-01-01  \n",
       "2       2014-01-01  \n",
       "3       2014-01-01  \n",
       "4       2014-01-01  \n",
       "...            ...  \n",
       "671200  2017-07-25  \n",
       "671201  2017-07-25  \n",
       "671202  2017-07-26  \n",
       "671203  2017-07-26  \n",
       "671204  2017-07-26  \n",
       "\n",
       "[671205 rows x 20 columns]"
      ]
     },
     "execution_count": 34,
     "metadata": {},
     "output_type": "execute_result"
    }
   ],
   "source": [
    "%time old_loans_df.fillna(value=0)"
   ]
  },
  {
   "cell_type": "code",
   "execution_count": null,
   "metadata": {},
   "outputs": [],
   "source": [
    "#Command to shutdown the Ray\n",
    "ray.shutdown()"
   ]
  },
  {
   "cell_type": "code",
   "execution_count": null,
   "metadata": {},
   "outputs": [],
   "source": []
  }
 ],
 "metadata": {
  "kernelspec": {
   "display_name": "Python 3",
   "language": "python",
   "name": "python3"
  },
  "language_info": {
   "codemirror_mode": {
    "name": "ipython",
    "version": 3
   },
   "file_extension": ".py",
   "mimetype": "text/x-python",
   "name": "python",
   "nbconvert_exporter": "python",
   "pygments_lexer": "ipython3",
   "version": "3.7.4"
  }
 },
 "nbformat": 4,
 "nbformat_minor": 2
}
